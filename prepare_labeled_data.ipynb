{
 "cells": [
  {
   "cell_type": "markdown",
   "id": "7b6a64dd-5b85-48f7-b3bb-203b4a379d45",
   "metadata": {},
   "source": [
    "## 1. Sign Up for the Newsletter\n",
    "Before diving into the tutorial, I invite you to sign up for the Infotra.io newsletter to stay updated on the latest features, insights, and developments in data-driven trading. You'll receive exclusive content, new releases, and best practices for improving your trading strategies with Infotra.io. Your feedback is invaluable to us, and staying connected through the newsletter helps us continue enhancing the tool for traders like you.\n",
    "For signing up, please write an email to newsletter@infotra.io"
   ]
  },
  {
   "cell_type": "markdown",
   "id": "3b0b5aa5-4370-4f75-8276-cd27aff61323",
   "metadata": {},
   "source": [
    "## 2. Extracting Data from Infotra.io\n",
    "To begin, we'll use Infotra.io to extract historical data that will be used for our machine learning model. Here’s how to do it:\n",
    "\n",
    "Navigate to Infotra.io and choose a specific candlestick pattern (e.g., Doji).\n",
    "Configure the risk management parameters (such as profit-to-risk ratio, entry/exit points) and run the analysis.\n",
    "Once the opportunities have been identified, export the data as a CSV file by clicking on the export button.\n",
    "This CSV file will contain both successful and failed opportunities, including all relevant market data needed for building the machine learning model."
   ]
  },
  {
   "cell_type": "code",
   "execution_count": 8,
   "id": "1ac90c1a-b60f-4181-be4c-44a54a2b11b1",
   "metadata": {},
   "outputs": [],
   "source": [
    "import pandas as pd\n",
    "import json\n",
    "import datetime\n",
    "import os"
   ]
  },
  {
   "cell_type": "markdown",
   "id": "075185ae-f826-41b7-a78a-8bd13e2cd740",
   "metadata": {},
   "source": [
    "## 3. Loading and Cleaning the Data\n",
    "Now that we have the exported data, let’s load the CSV file into our notebook and begin the data cleaning process. This step is crucial for ensuring the data is ready for feature extraction and model training. Here’s what we’ll do:"
   ]
  },
  {
   "cell_type": "code",
   "execution_count": 9,
   "id": "2e33d2cd-45bf-405f-b5e3-71b28ba4d972",
   "metadata": {},
   "outputs": [],
   "source": [
    "raw_data = pd.read_csv(\"data/opportunities.csv\")"
   ]
  },
  {
   "cell_type": "markdown",
   "id": "83aafe06-7717-4a94-99de-e95a8dc7c634",
   "metadata": {},
   "source": [
    "## Select the Required Columns:\n",
    "We’ll first select only the columns relevant to our analysis. This might include data such as the open, high, low, close prices, as well as columns that show whether the opportunity was successful, and any other features we need for building our model."
   ]
  },
  {
   "cell_type": "code",
   "execution_count": 10,
   "id": "9ccc25a7-7e64-4ec0-8961-a60e2f467020",
   "metadata": {},
   "outputs": [],
   "source": [
    "required_columns = [\"Opportunity_id\",\n",
    "                    \"date\",\n",
    "                    \"open\",\n",
    "                    \"high\",\n",
    "                    \"low\",\n",
    "                    \"close\",\n",
    "                    \"is_last_candle_of_found_pattern\",\n",
    "                    \"is_buy_opportunity\",\n",
    "                    \"is_sell_opportunity\",\n",
    "                    \"succeeded\"]\n",
    "candle_patterns = raw_data[required_columns]"
   ]
  },
  {
   "cell_type": "markdown",
   "id": "3607180b-a13b-4b15-8d75-6260855df797",
   "metadata": {},
   "source": [
    "## Split the Buy and Sell Opportunities:\n",
    "Since buy and sell opportunities can behave differently, we’ll split the dataset into two: one for buy opportunities and another for sell opportunities. This will allow us to create separate models for both, or compare how the features influence success in each case.\n",
    "\n",
    "The data in the CSV file is organized in a specific order:\n",
    "\n",
    "* First, you have rows for successful buy opportunities.\n",
    "* Then, rows for failed buy opportunities.\n",
    "* After that, rows for successful sell opportunities.\n",
    "* Finally, rows for failed sell opportunities.\n",
    "\n",
    "To split the data into buy and sell opportunities, the approach involves finding the last row of the failed buy opportunities. This row marks the transition point between the buy-related data and the sell-related data. Once this index is identified, the data can be split into two parts:\n",
    "\n",
    "* Buy opportunities: All rows from the beginning of the dataset up to the identified row.\n",
    "* Sell opportunities: All rows from the identified row onward."
   ]
  },
  {
   "cell_type": "code",
   "execution_count": 11,
   "id": "f9990cdf-4122-4c46-8231-28a27f2de4cd",
   "metadata": {},
   "outputs": [
    {
     "name": "stdout",
     "output_type": "stream",
     "text": [
      "240\n"
     ]
    }
   ],
   "source": [
    "for i in range(1, candle_patterns.shape[0]):\n",
    "    if candle_patterns.loc[i, \"succeeded\"] == 1 and candle_patterns.loc[i-1, \"succeeded\"] == 0:\n",
    "        print(i)\n",
    "        break"
   ]
  },
  {
   "cell_type": "code",
   "execution_count": 12,
   "id": "5e1fb28a-f1d1-407d-a7f7-7769126acea8",
   "metadata": {},
   "outputs": [
    {
     "data": {
      "text/html": [
       "<div>\n",
       "<style scoped>\n",
       "    .dataframe tbody tr th:only-of-type {\n",
       "        vertical-align: middle;\n",
       "    }\n",
       "\n",
       "    .dataframe tbody tr th {\n",
       "        vertical-align: top;\n",
       "    }\n",
       "\n",
       "    .dataframe thead th {\n",
       "        text-align: right;\n",
       "    }\n",
       "</style>\n",
       "<table border=\"1\" class=\"dataframe\">\n",
       "  <thead>\n",
       "    <tr style=\"text-align: right;\">\n",
       "      <th></th>\n",
       "      <th>Opportunity_id</th>\n",
       "      <th>date</th>\n",
       "      <th>open</th>\n",
       "      <th>high</th>\n",
       "      <th>low</th>\n",
       "      <th>close</th>\n",
       "      <th>is_last_candle_of_found_pattern</th>\n",
       "      <th>is_buy_opportunity</th>\n",
       "      <th>is_sell_opportunity</th>\n",
       "      <th>succeeded</th>\n",
       "    </tr>\n",
       "  </thead>\n",
       "  <tbody>\n",
       "    <tr>\n",
       "      <th>235</th>\n",
       "      <td>Opportunity-44</td>\n",
       "      <td>2024-08-25</td>\n",
       "      <td>1.11879</td>\n",
       "      <td>1.12011</td>\n",
       "      <td>1.11529</td>\n",
       "      <td>1.11879</td>\n",
       "      <td>1</td>\n",
       "      <td>0</td>\n",
       "      <td>0</td>\n",
       "      <td>0</td>\n",
       "    </tr>\n",
       "    <tr>\n",
       "      <th>236</th>\n",
       "      <td>Opportunity-45</td>\n",
       "      <td>2024-09-08</td>\n",
       "      <td>1.10872</td>\n",
       "      <td>1.10914</td>\n",
       "      <td>1.10350</td>\n",
       "      <td>1.10872</td>\n",
       "      <td>1</td>\n",
       "      <td>0</td>\n",
       "      <td>0</td>\n",
       "      <td>0</td>\n",
       "    </tr>\n",
       "    <tr>\n",
       "      <th>237</th>\n",
       "      <td>Opportunity-46</td>\n",
       "      <td>2024-09-15</td>\n",
       "      <td>1.10884</td>\n",
       "      <td>1.11354</td>\n",
       "      <td>1.10871</td>\n",
       "      <td>1.10884</td>\n",
       "      <td>1</td>\n",
       "      <td>0</td>\n",
       "      <td>0</td>\n",
       "      <td>0</td>\n",
       "    </tr>\n",
       "    <tr>\n",
       "      <th>238</th>\n",
       "      <td>Opportunity-47</td>\n",
       "      <td>2024-09-20</td>\n",
       "      <td>1.11614</td>\n",
       "      <td>1.11818</td>\n",
       "      <td>1.11360</td>\n",
       "      <td>1.11601</td>\n",
       "      <td>1</td>\n",
       "      <td>0</td>\n",
       "      <td>0</td>\n",
       "      <td>0</td>\n",
       "    </tr>\n",
       "    <tr>\n",
       "      <th>239</th>\n",
       "      <td>Opportunity-48</td>\n",
       "      <td>2024-09-22</td>\n",
       "      <td>1.11608</td>\n",
       "      <td>1.11682</td>\n",
       "      <td>1.10849</td>\n",
       "      <td>1.11608</td>\n",
       "      <td>1</td>\n",
       "      <td>0</td>\n",
       "      <td>0</td>\n",
       "      <td>0</td>\n",
       "    </tr>\n",
       "  </tbody>\n",
       "</table>\n",
       "</div>"
      ],
      "text/plain": [
       "     Opportunity_id        date     open     high      low    close  \\\n",
       "235  Opportunity-44  2024-08-25  1.11879  1.12011  1.11529  1.11879   \n",
       "236  Opportunity-45  2024-09-08  1.10872  1.10914  1.10350  1.10872   \n",
       "237  Opportunity-46  2024-09-15  1.10884  1.11354  1.10871  1.10884   \n",
       "238  Opportunity-47  2024-09-20  1.11614  1.11818  1.11360  1.11601   \n",
       "239  Opportunity-48  2024-09-22  1.11608  1.11682  1.10849  1.11608   \n",
       "\n",
       "     is_last_candle_of_found_pattern  is_buy_opportunity  is_sell_opportunity  \\\n",
       "235                                1                   0                    0   \n",
       "236                                1                   0                    0   \n",
       "237                                1                   0                    0   \n",
       "238                                1                   0                    0   \n",
       "239                                1                   0                    0   \n",
       "\n",
       "     succeeded  \n",
       "235          0  \n",
       "236          0  \n",
       "237          0  \n",
       "238          0  \n",
       "239          0  "
      ]
     },
     "execution_count": 12,
     "metadata": {},
     "output_type": "execute_result"
    }
   ],
   "source": [
    "buy_pattern = candle_patterns.loc[0:239,:]\n",
    "buy_pattern.tail()"
   ]
  },
  {
   "cell_type": "markdown",
   "id": "37f7a7a3-61a8-4474-9c5b-f3cb27f1a3d2",
   "metadata": {},
   "source": [
    "The next step is to filter the data to focus only on the specific candlestick patterns identified as the \"pattern candle\". This is done by selecting rows where the column is_last_candle_of_found_pattern equals 1. These rows represent the final candle of the detected pattern, which is the key point for analyzing trading opportunities.\n",
    "\n",
    "By filtering this way, you ensure that the dataset only includes the relevant candles for your analysis or modeling."
   ]
  },
  {
   "cell_type": "code",
   "execution_count": 13,
   "id": "83117453-aee9-4ce1-94cf-ef842ce668a8",
   "metadata": {},
   "outputs": [],
   "source": [
    "pattern_buy_opportunity = buy_pattern[buy_pattern[\"is_last_candle_of_found_pattern\"] == 1]"
   ]
  },
  {
   "cell_type": "markdown",
   "id": "5b3e76c3-3f18-4e26-8d5e-8728e029dc2b",
   "metadata": {},
   "source": [
    "The final step is to convert the date column from a string format to a proper datetime format. This is done using a function that transforms each string value into a UTC datetime object. By doing this, the date values become easier to work with, especially for sorting, filtering, or performing time-based analysis in your trading model"
   ]
  },
  {
   "cell_type": "code",
   "execution_count": 14,
   "id": "90294319-fb69-4bf8-8ad1-529e365c4c2d",
   "metadata": {},
   "outputs": [],
   "source": [
    "def str_to_utc_date(string_value):\n",
    "    datetime_from_string = datetime.datetime.strptime(string_value, \"%Y-%m-%d\")\n",
    "    return datetime_from_string.replace(tzinfo=datetime.timezone.utc).date()"
   ]
  },
  {
   "cell_type": "code",
   "execution_count": 15,
   "id": "17c70b90-7926-4301-adbe-226f569ec8a9",
   "metadata": {},
   "outputs": [
    {
     "name": "stderr",
     "output_type": "stream",
     "text": [
      "/tmp/ipykernel_14639/3297700157.py:1: SettingWithCopyWarning: \n",
      "A value is trying to be set on a copy of a slice from a DataFrame.\n",
      "Try using .loc[row_indexer,col_indexer] = value instead\n",
      "\n",
      "See the caveats in the documentation: https://pandas.pydata.org/pandas-docs/stable/user_guide/indexing.html#returning-a-view-versus-a-copy\n",
      "  pattern_buy_opportunity[\"date\"] = pattern_buy_opportunity[\"date\"].apply(lambda string_value: str_to_utc_date(string_value))\n"
     ]
    }
   ],
   "source": [
    "pattern_buy_opportunity[\"date\"] = pattern_buy_opportunity[\"date\"].apply(lambda string_value: str_to_utc_date(string_value))"
   ]
  },
  {
   "cell_type": "code",
   "execution_count": 16,
   "id": "86adcaec-0f00-4e87-bdce-fa01db23380b",
   "metadata": {},
   "outputs": [
    {
     "data": {
      "text/html": [
       "<div>\n",
       "<style scoped>\n",
       "    .dataframe tbody tr th:only-of-type {\n",
       "        vertical-align: middle;\n",
       "    }\n",
       "\n",
       "    .dataframe tbody tr th {\n",
       "        vertical-align: top;\n",
       "    }\n",
       "\n",
       "    .dataframe thead th {\n",
       "        text-align: right;\n",
       "    }\n",
       "</style>\n",
       "<table border=\"1\" class=\"dataframe\">\n",
       "  <thead>\n",
       "    <tr style=\"text-align: right;\">\n",
       "      <th></th>\n",
       "      <th>Opportunity_id</th>\n",
       "      <th>date</th>\n",
       "      <th>open</th>\n",
       "      <th>high</th>\n",
       "      <th>low</th>\n",
       "      <th>close</th>\n",
       "      <th>is_last_candle_of_found_pattern</th>\n",
       "      <th>is_buy_opportunity</th>\n",
       "      <th>is_sell_opportunity</th>\n",
       "      <th>succeeded</th>\n",
       "    </tr>\n",
       "  </thead>\n",
       "  <tbody>\n",
       "    <tr>\n",
       "      <th>0</th>\n",
       "      <td>Opportunity-1</td>\n",
       "      <td>2004-11-02</td>\n",
       "      <td>1.2740</td>\n",
       "      <td>1.2755</td>\n",
       "      <td>1.2661</td>\n",
       "      <td>1.2739</td>\n",
       "      <td>1</td>\n",
       "      <td>0</td>\n",
       "      <td>0</td>\n",
       "      <td>1</td>\n",
       "    </tr>\n",
       "    <tr>\n",
       "      <th>12</th>\n",
       "      <td>Opportunity-2</td>\n",
       "      <td>2004-11-08</td>\n",
       "      <td>1.2913</td>\n",
       "      <td>1.2984</td>\n",
       "      <td>1.2903</td>\n",
       "      <td>1.2914</td>\n",
       "      <td>1</td>\n",
       "      <td>0</td>\n",
       "      <td>0</td>\n",
       "      <td>1</td>\n",
       "    </tr>\n",
       "    <tr>\n",
       "      <th>23</th>\n",
       "      <td>Opportunity-3</td>\n",
       "      <td>2004-11-09</td>\n",
       "      <td>1.2896</td>\n",
       "      <td>1.2940</td>\n",
       "      <td>1.2879</td>\n",
       "      <td>1.2897</td>\n",
       "      <td>1</td>\n",
       "      <td>0</td>\n",
       "      <td>0</td>\n",
       "      <td>1</td>\n",
       "    </tr>\n",
       "    <tr>\n",
       "      <th>34</th>\n",
       "      <td>Opportunity-4</td>\n",
       "      <td>2005-03-01</td>\n",
       "      <td>1.3183</td>\n",
       "      <td>1.3243</td>\n",
       "      <td>1.3164</td>\n",
       "      <td>1.3183</td>\n",
       "      <td>1</td>\n",
       "      <td>0</td>\n",
       "      <td>0</td>\n",
       "      <td>1</td>\n",
       "    </tr>\n",
       "    <tr>\n",
       "      <th>38</th>\n",
       "      <td>Opportunity-5</td>\n",
       "      <td>2005-10-04</td>\n",
       "      <td>1.1916</td>\n",
       "      <td>1.1950</td>\n",
       "      <td>1.1897</td>\n",
       "      <td>1.1916</td>\n",
       "      <td>1</td>\n",
       "      <td>1</td>\n",
       "      <td>0</td>\n",
       "      <td>1</td>\n",
       "    </tr>\n",
       "  </tbody>\n",
       "</table>\n",
       "</div>"
      ],
      "text/plain": [
       "   Opportunity_id        date    open    high     low   close  \\\n",
       "0   Opportunity-1  2004-11-02  1.2740  1.2755  1.2661  1.2739   \n",
       "12  Opportunity-2  2004-11-08  1.2913  1.2984  1.2903  1.2914   \n",
       "23  Opportunity-3  2004-11-09  1.2896  1.2940  1.2879  1.2897   \n",
       "34  Opportunity-4  2005-03-01  1.3183  1.3243  1.3164  1.3183   \n",
       "38  Opportunity-5  2005-10-04  1.1916  1.1950  1.1897  1.1916   \n",
       "\n",
       "    is_last_candle_of_found_pattern  is_buy_opportunity  is_sell_opportunity  \\\n",
       "0                                 1                   0                    0   \n",
       "12                                1                   0                    0   \n",
       "23                                1                   0                    0   \n",
       "34                                1                   0                    0   \n",
       "38                                1                   1                    0   \n",
       "\n",
       "    succeeded  \n",
       "0           1  \n",
       "12          1  \n",
       "23          1  \n",
       "34          1  \n",
       "38          1  "
      ]
     },
     "execution_count": 16,
     "metadata": {},
     "output_type": "execute_result"
    }
   ],
   "source": [
    "pattern_buy_opportunity.head()"
   ]
  },
  {
   "cell_type": "code",
   "execution_count": null,
   "id": "7a6ada03-e136-4df4-ac7a-c5a3ea1cd11a",
   "metadata": {},
   "outputs": [],
   "source": []
  }
 ],
 "metadata": {
  "kernelspec": {
   "display_name": "Python 3 (ipykernel)",
   "language": "python",
   "name": "python3"
  },
  "language_info": {
   "codemirror_mode": {
    "name": "ipython",
    "version": 3
   },
   "file_extension": ".py",
   "mimetype": "text/x-python",
   "name": "python",
   "nbconvert_exporter": "python",
   "pygments_lexer": "ipython3",
   "version": "3.8.10"
  }
 },
 "nbformat": 4,
 "nbformat_minor": 5
}
